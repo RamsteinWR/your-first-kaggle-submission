{
  "nbformat": 4,
  "nbformat_minor": 0,
  "metadata": {
    "colab": {
      "name": "Titanic.ipynb",
      "version": "0.3.2",
      "provenance": [],
      "include_colab_link": true
    },
    "kernelspec": {
      "name": "python3",
      "display_name": "Python 3"
    },
    "accelerator": "GPU"
  },
  "cells": [
    {
      "cell_type": "markdown",
      "metadata": {
        "id": "view-in-github",
        "colab_type": "text"
      },
      "source": [
        "<a href=\"https://colab.research.google.com/github/RamsteinWR/your-first-kaggle-submission/blob/master/Titanic.ipynb\" target=\"_parent\"><img src=\"https://colab.research.google.com/assets/colab-badge.svg\" alt=\"Open In Colab\"/></a>"
      ]
    },
    {
      "cell_type": "code",
      "metadata": {
        "id": "9rFZwPz7F7dp",
        "colab_type": "code",
        "colab": {
          "base_uri": "https://localhost:8080/",
          "height": 106
        },
        "outputId": "41fd5f96-1856-444b-b1ab-f20488c40149"
      },
      "source": [
        "!git clone https://github.com/agconti/kaggle-titanic.git"
      ],
      "execution_count": 1,
      "outputs": [
        {
          "output_type": "stream",
          "text": [
            "Cloning into 'kaggle-titanic'...\n",
            "remote: Enumerating objects: 472, done.\u001b[K\n",
            "remote: Total 472 (delta 0), reused 0 (delta 0), pack-reused 472\u001b[K\n",
            "Receiving objects: 100% (472/472), 7.61 MiB | 25.82 MiB/s, done.\n",
            "Resolving deltas: 100% (216/216), done.\n"
          ],
          "name": "stdout"
        }
      ]
    },
    {
      "cell_type": "code",
      "metadata": {
        "id": "Nq-6ZacFGYXj",
        "colab_type": "code",
        "colab": {
          "base_uri": "https://localhost:8080/",
          "height": 132
        },
        "outputId": "e7f5cf6c-c291-4d11-c6dc-6065a705e09e"
      },
      "source": [
        ""
      ],
      "execution_count": 3,
      "outputs": [
        {
          "output_type": "error",
          "ename": "SyntaxError",
          "evalue": "ignored",
          "traceback": [
            "\u001b[0;36m  File \u001b[0;32m\"<ipython-input-3-5a00290381a2>\"\u001b[0;36m, line \u001b[0;32m1\u001b[0m\n\u001b[0;31m    import kaggle-titanic\u001b[0m\n\u001b[0m                 ^\u001b[0m\n\u001b[0;31mSyntaxError\u001b[0m\u001b[0;31m:\u001b[0m invalid syntax\n"
          ]
        }
      ]
    },
    {
      "cell_type": "code",
      "metadata": {
        "id": "VBeA05HzHEe4",
        "colab_type": "code",
        "colab": {
          "base_uri": "https://localhost:8080/",
          "height": 35
        },
        "outputId": "6e8efd79-9ccc-40ed-f921-14e20ec62ae1"
      },
      "source": [
        "!pwd # path of current directory"
      ],
      "execution_count": 4,
      "outputs": [
        {
          "output_type": "stream",
          "text": [
            "/content\n"
          ],
          "name": "stdout"
        }
      ]
    },
    {
      "cell_type": "code",
      "metadata": {
        "id": "0mbghCaHHNCW",
        "colab_type": "code",
        "colab": {
          "base_uri": "https://localhost:8080/",
          "height": 52
        },
        "outputId": "feb9a445-5a76-4063-8bbe-d6fd4c384e08"
      },
      "source": [
        "cd sample_data\n"
      ],
      "execution_count": 6,
      "outputs": [
        {
          "output_type": "stream",
          "text": [
            "[Errno 2] No such file or directory: 'sample_data'\n",
            "/content/sample_data\n"
          ],
          "name": "stdout"
        }
      ]
    },
    {
      "cell_type": "code",
      "metadata": {
        "id": "7xAHgqCAHQBA",
        "colab_type": "code",
        "colab": {
          "base_uri": "https://localhost:8080/",
          "height": 70
        },
        "outputId": "3931dd37-3b4e-450d-daef-ad9633eefa4b"
      },
      "source": [
        "!ls"
      ],
      "execution_count": 7,
      "outputs": [
        {
          "output_type": "stream",
          "text": [
            "anscombe.json\t\t      mnist_test.csv\n",
            "california_housing_test.csv   mnist_train_small.csv\n",
            "california_housing_train.csv  README.md\n"
          ],
          "name": "stdout"
        }
      ]
    },
    {
      "cell_type": "code",
      "metadata": {
        "id": "orjdtEYeHRNL",
        "colab_type": "code",
        "colab": {
          "base_uri": "https://localhost:8080/",
          "height": 106
        },
        "outputId": "84463e62-b3f0-424f-f826-e6fa02a97357"
      },
      "source": [
        "! git clone https://github.com/agconti/kaggle-titanic.git"
      ],
      "execution_count": 8,
      "outputs": [
        {
          "output_type": "stream",
          "text": [
            "Cloning into 'kaggle-titanic'...\n",
            "remote: Enumerating objects: 472, done.\u001b[K\n",
            "Receiving objects:   0% (1/472)   \rReceiving objects:   1% (5/472)   \rReceiving objects:   2% (10/472)   \rReceiving objects:   3% (15/472)   \rReceiving objects:   4% (19/472)   \rReceiving objects:   5% (24/472)   \rReceiving objects:   6% (29/472)   \rReceiving objects:   7% (34/472)   \rReceiving objects:   8% (38/472)   \rReceiving objects:   9% (43/472)   \rReceiving objects:  10% (48/472)   \rReceiving objects:  11% (52/472)   \rReceiving objects:  12% (57/472)   \rReceiving objects:  13% (62/472)   \rReceiving objects:  14% (67/472)   \rReceiving objects:  15% (71/472)   \rReceiving objects:  16% (76/472)   \rReceiving objects:  17% (81/472)   \rReceiving objects:  18% (85/472)   \rReceiving objects:  19% (90/472)   \rReceiving objects:  20% (95/472)   \rReceiving objects:  21% (100/472)   \rReceiving objects:  22% (104/472)   \rReceiving objects:  23% (109/472)   \rReceiving objects:  24% (114/472)   \rReceiving objects:  25% (118/472)   \rReceiving objects:  26% (123/472)   \rReceiving objects:  27% (128/472)   \rReceiving objects:  28% (133/472)   \rReceiving objects:  29% (137/472)   \rReceiving objects:  30% (142/472)   \rReceiving objects:  31% (147/472)   \rReceiving objects:  32% (152/472)   \rReceiving objects:  33% (156/472)   \rReceiving objects:  34% (161/472)   \rReceiving objects:  35% (166/472)   \rReceiving objects:  36% (170/472)   \rReceiving objects:  37% (175/472)   \rReceiving objects:  38% (180/472)   \rReceiving objects:  39% (185/472)   \rReceiving objects:  40% (189/472)   \rReceiving objects:  41% (194/472)   \rReceiving objects:  42% (199/472)   \rReceiving objects:  43% (203/472)   \rReceiving objects:  44% (208/472)   \rReceiving objects:  45% (213/472)   \rReceiving objects:  46% (218/472)   \rReceiving objects:  47% (222/472)   \rReceiving objects:  48% (227/472)   \rReceiving objects:  49% (232/472)   \rReceiving objects:  50% (236/472)   \rReceiving objects:  51% (241/472)   \rReceiving objects:  52% (246/472)   \rReceiving objects:  53% (251/472)   \rReceiving objects:  54% (255/472)   \rReceiving objects:  55% (260/472)   \rReceiving objects:  56% (265/472)   \rReceiving objects:  57% (270/472)   \rReceiving objects:  58% (274/472)   \rReceiving objects:  59% (279/472)   \rReceiving objects:  60% (284/472)   \rReceiving objects:  61% (288/472)   \rReceiving objects:  62% (293/472)   \rReceiving objects:  63% (298/472)   \rReceiving objects:  64% (303/472)   \rReceiving objects:  65% (307/472)   \rReceiving objects:  66% (312/472)   \rReceiving objects:  67% (317/472)   \rReceiving objects:  68% (321/472)   \rReceiving objects:  69% (326/472)   \rReceiving objects:  70% (331/472)   \rReceiving objects:  71% (336/472)   \rReceiving objects:  72% (340/472)   \rReceiving objects:  73% (345/472)   \rReceiving objects:  74% (350/472)   \rReceiving objects:  75% (354/472)   \rReceiving objects:  76% (359/472)   \rReceiving objects:  77% (364/472)   \rReceiving objects:  78% (369/472)   \rReceiving objects:  79% (373/472)   \rReceiving objects:  80% (378/472)   \rReceiving objects:  81% (383/472)   \rReceiving objects:  82% (388/472)   \rReceiving objects:  83% (392/472)   \rReceiving objects:  84% (397/472)   \rReceiving objects:  85% (402/472)   \rReceiving objects:  86% (406/472)   \rReceiving objects:  87% (411/472)   \rReceiving objects:  88% (416/472)   \rReceiving objects:  89% (421/472)   \rReceiving objects:  90% (425/472)   \rremote: Total 472 (delta 0), reused 0 (delta 0), pack-reused 472\u001b[K\n",
            "Receiving objects:  91% (430/472)   \rReceiving objects:  92% (435/472)   \rReceiving objects:  93% (439/472)   \rReceiving objects:  94% (444/472)   \rReceiving objects:  95% (449/472)   \rReceiving objects:  96% (454/472)   \rReceiving objects:  97% (458/472)   \rReceiving objects:  98% (463/472)   \rReceiving objects:  99% (468/472)   \rReceiving objects: 100% (472/472)   \rReceiving objects: 100% (472/472), 7.61 MiB | 22.47 MiB/s, done.\n",
            "Resolving deltas:   0% (0/216)   \rResolving deltas:   3% (8/216)   \rResolving deltas:   5% (11/216)   \rResolving deltas:   6% (13/216)   \rResolving deltas:   7% (16/216)   \rResolving deltas:   9% (20/216)   \rResolving deltas:  10% (22/216)   \rResolving deltas:  14% (32/216)   \rResolving deltas:  23% (50/216)   \rResolving deltas:  26% (58/216)   \rResolving deltas:  28% (61/216)   \rResolving deltas:  29% (63/216)   \rResolving deltas:  30% (65/216)   \rResolving deltas:  31% (68/216)   \rResolving deltas:  35% (76/216)   \rResolving deltas:  38% (84/216)   \rResolving deltas:  40% (87/216)   \rResolving deltas:  47% (103/216)   \rResolving deltas:  48% (105/216)   \rResolving deltas:  50% (110/216)   \rResolving deltas:  71% (154/216)   \rResolving deltas:  81% (175/216)   \rResolving deltas:  84% (183/216)   \rResolving deltas:  88% (192/216)   \rResolving deltas:  91% (198/216)   \rResolving deltas:  94% (205/216)   \rResolving deltas:  95% (207/216)   \rResolving deltas:  96% (208/216)   \rResolving deltas:  97% (211/216)   \rResolving deltas:  98% (212/216)   \rResolving deltas:  99% (214/216)   \rResolving deltas: 100% (216/216)   \rResolving deltas: 100% (216/216), done.\n"
          ],
          "name": "stdout"
        }
      ]
    },
    {
      "cell_type": "code",
      "metadata": {
        "id": "Ih5i-pykHhsE",
        "colab_type": "code",
        "colab": {}
      },
      "source": [
        "!cd /content\n"
      ],
      "execution_count": 0,
      "outputs": []
    },
    {
      "cell_type": "code",
      "metadata": {
        "id": "cZmrfoHOH0ax",
        "colab_type": "code",
        "colab": {
          "base_uri": "https://localhost:8080/",
          "height": 70
        },
        "outputId": "ec3d2a89-2416-44b1-b1d6-6b67253823e9"
      },
      "source": [
        "!ls\n"
      ],
      "execution_count": 10,
      "outputs": [
        {
          "output_type": "stream",
          "text": [
            "anscombe.json\t\t      kaggle-titanic\t     README.md\n",
            "california_housing_test.csv   mnist_test.csv\n",
            "california_housing_train.csv  mnist_train_small.csv\n"
          ],
          "name": "stdout"
        }
      ]
    },
    {
      "cell_type": "code",
      "metadata": {
        "id": "b-IxmDt7H2ue",
        "colab_type": "code",
        "colab": {
          "base_uri": "https://localhost:8080/",
          "height": 35
        },
        "outputId": "e392fd6f-a813-4343-b07d-a164bdf07fde"
      },
      "source": [
        "cd /content/\n"
      ],
      "execution_count": 11,
      "outputs": [
        {
          "output_type": "stream",
          "text": [
            "/content\n"
          ],
          "name": "stdout"
        }
      ]
    },
    {
      "cell_type": "code",
      "metadata": {
        "id": "wOKTRHP0H9Bj",
        "colab_type": "code",
        "colab": {
          "base_uri": "https://localhost:8080/",
          "height": 35
        },
        "outputId": "8df69897-3fd9-4e88-b86d-815f74c47e58"
      },
      "source": [
        "!ls\n"
      ],
      "execution_count": 12,
      "outputs": [
        {
          "output_type": "stream",
          "text": [
            "kaggle-titanic\tsample_data\n"
          ],
          "name": "stdout"
        }
      ]
    },
    {
      "cell_type": "code",
      "metadata": {
        "id": "6-yICyDjH-XU",
        "colab_type": "code",
        "colab": {
          "base_uri": "https://localhost:8080/",
          "height": 55
        },
        "outputId": "42a3155e-ea9c-4c17-edd9-a5e0b57c9596"
      },
      "source": [
        "!git clone https://github.com/agconti/kaggle-titanic.git\n",
        "    "
      ],
      "execution_count": 13,
      "outputs": [
        {
          "output_type": "stream",
          "text": [
            "fatal: destination path 'kaggle-titanic' already exists and is not an empty directory.\n"
          ],
          "name": "stdout"
        }
      ]
    },
    {
      "cell_type": "code",
      "metadata": {
        "id": "EEXYjy-cIDgb",
        "colab_type": "code",
        "colab": {
          "base_uri": "https://localhost:8080/",
          "height": 35
        },
        "outputId": "18820a64-8248-4835-d50f-1c454bb70a7c"
      },
      "source": [
        "cd /content/kaggle-titanic/\n"
      ],
      "execution_count": 14,
      "outputs": [
        {
          "output_type": "stream",
          "text": [
            "/content/kaggle-titanic\n"
          ],
          "name": "stdout"
        }
      ]
    },
    {
      "cell_type": "code",
      "metadata": {
        "id": "mTkBg6mzIKjn",
        "colab_type": "code",
        "colab": {
          "base_uri": "https://localhost:8080/",
          "height": 52
        },
        "outputId": "585a579a-cd52-4768-e94d-e330d1c5cbaa"
      },
      "source": [
        "!ls"
      ],
      "execution_count": 15,
      "outputs": [
        {
          "output_type": "stream",
          "text": [
            " data\t  KaggleAux  'Python Examples'\t requirements.txt\n",
            " images   LICENSE     ReadMe.md\t\t Titanic.ipynb\n"
          ],
          "name": "stdout"
        }
      ]
    },
    {
      "cell_type": "code",
      "metadata": {
        "id": "-DjSOk9OILfi",
        "colab_type": "code",
        "colab": {}
      },
      "source": [
        "!rm -rf requirements.txt"
      ],
      "execution_count": 0,
      "outputs": []
    },
    {
      "cell_type": "code",
      "metadata": {
        "id": "Y9Y2eaoJIR6I",
        "colab_type": "code",
        "colab": {
          "base_uri": "https://localhost:8080/",
          "height": 52
        },
        "outputId": "fbceb8fe-0e32-4f61-ecaa-e9e3d6a44a37"
      },
      "source": [
        "!ls"
      ],
      "execution_count": 17,
      "outputs": [
        {
          "output_type": "stream",
          "text": [
            " data\t  KaggleAux  'Python Examples'\t Titanic.ipynb\n",
            " images   LICENSE     ReadMe.md\n"
          ],
          "name": "stdout"
        }
      ]
    },
    {
      "cell_type": "code",
      "metadata": {
        "id": "XBsLZK6MITUh",
        "colab_type": "code",
        "colab": {}
      },
      "source": [
        "!cd KaggleAux/"
      ],
      "execution_count": 0,
      "outputs": []
    },
    {
      "cell_type": "code",
      "metadata": {
        "id": "jt4PrSWnJmwr",
        "colab_type": "code",
        "colab": {
          "base_uri": "https://localhost:8080/",
          "height": 52
        },
        "outputId": "4b3ea156-b140-4559-f45c-43e45c8621b5"
      },
      "source": [
        "!ls"
      ],
      "execution_count": 19,
      "outputs": [
        {
          "output_type": "stream",
          "text": [
            " data\t  KaggleAux  'Python Examples'\t Titanic.ipynb\n",
            " images   LICENSE     ReadMe.md\n"
          ],
          "name": "stdout"
        }
      ]
    },
    {
      "cell_type": "code",
      "metadata": {
        "id": "VJ-eAkbfJnuL",
        "colab_type": "code",
        "colab": {}
      },
      "source": [
        "import numpy as np\n",
        "from pandas import DataFrame\n",
        "from patsy import dmatrices\n",
        "\n",
        "\n",
        "def get_dataframe_intersection(df, comparator1, comparator2):\n",
        "    \"\"\"\n",
        "    Return a dataframe with only the columns found in a comparative dataframe.\n",
        "\n",
        "    Parameters\n",
        "    ----------\n",
        "    comparator1: DataFrame\n",
        "        DataFrame to preform comparison on.\n",
        "    comparator2: DataFrame\n",
        "        DataFrame to compare with.\n",
        "\n",
        "    Returns\n",
        "    -------\n",
        "    DataFrame:\n",
        "        Data frame with columns not found in comparator dropped.\n",
        "\n",
        "    \"\"\"\n",
        "    to_drop = list((c for c in comparator1 if c not in comparator2))\n",
        "    return df.drop(to_drop, axis=1)\n",
        "\n",
        "\n",
        "def get_dataframes_intersections(df1, comparator1, df2, comparator2):\n",
        "    \"\"\"\n",
        "    Return DataFrames with the intersection of their column values.\n",
        "\n",
        "    Parameters\n",
        "    ----------\n",
        "    comparator1: DataFrame\n",
        "        DataFrame to preform comparison on.\n",
        "    comparator2: DataFrame\n",
        "        DataFrame to compare with.\n",
        "\n",
        "    Returns\n",
        "    -------\n",
        "    Tuple:\n",
        "        The resultingDataframe with columns not found in comparator dropped.\n",
        "\n",
        "    \"\"\"\n",
        "    comparator1 = get_dataframe_intersection(df1, comparator1, comparator2)\n",
        "    comparator2 = get_dataframe_intersection(df2, comparator2, comparator1)\n",
        "    return comparator1, comparator2\n",
        "\n",
        "\n",
        "def predict(test_data, results, model_name):\n",
        "    \"\"\"\n",
        "    Return predictions of based on model resutls.\n",
        "\n",
        "    Parameters\n",
        "    ----------\n",
        "    test_data: DataFrame\n",
        "        should be test data you are trying to predict\n",
        "    results: dict\n",
        "        should be dict of your models results wrapper and the formula used\n",
        "        to produce it.\n",
        "            ie.\n",
        "            results['Model_Name'] = {\n",
        "            [<statsmodels.regression.linear_model.RegressionResultsWrapper> , \n",
        "            \"Price ~ I(Supply, Demand)]\n",
        "            }\n",
        "    model_name: str\n",
        "        should be the name of your model. You can iterate through the results dict.\n",
        "\n",
        "    Returns\n",
        "    -------\n",
        "    NumPy array\n",
        "        Predictions in a flat NumPy array.\n",
        "\n",
        "    Example\n",
        "    -------\n",
        "    results = {'Logit': [<statsmodels.discrete.discrete_model.BinaryResultsWrapper at 0x117896650>,\n",
        "               'survived ~ C(pclass) + C(sex) + age + sibsp  + C(embarked)']}\n",
        "    compared_resuts = predict(test_data, results, 'Logit')\n",
        "\n",
        "    \"\"\"\n",
        "    model_params = DataFrame(results[model_name][0].params)\n",
        "    formula = results[model_name][1]\n",
        "\n",
        "    # Create regression friendly test DataFrame\n",
        "    yt, xt = dmatrices(formula, data=test_data, return_type='dataframe')\n",
        "    xt, model_params = get_dataframes_intersections(xt, xt.columns,\n",
        "                                                    model_params, model_params.index)\n",
        "    # Convert to NumPy arrays for performance\n",
        "    model_params = np.asarray(model_params)\n",
        "    yt = np.asarray(yt)\n",
        "    yt = yt.ravel()\n",
        "    xt = np.asarray(xt)\n",
        "\n",
        "    # Use our models to create predictions\n",
        "    row, col = xt.shape\n",
        "    model_parameters = model_params.ravel()\n",
        "    model_array = list((model_parameters for parameter in xrange(row)))\n",
        "    model_array = np.asarray(model_array)\n",
        "\n",
        "    # Multiply matrix together\n",
        "    predictions = np.multiply(xt, model_array)\n",
        "    predictions = np.sum(predictions, axis=1)\n",
        "    return predictions\n"
      ],
      "execution_count": 0,
      "outputs": []
    },
    {
      "cell_type": "code",
      "metadata": {
        "id": "3_OmFTqYJ6QJ",
        "colab_type": "code",
        "colab": {
          "base_uri": "https://localhost:8080/",
          "height": 346
        },
        "outputId": "2efe2e85-421c-49d7-a2dc-1af390ee110a"
      },
      "source": [
        "import predict\n",
        "\n",
        "__all__ = ['predict']"
      ],
      "execution_count": 22,
      "outputs": [
        {
          "output_type": "error",
          "ename": "ModuleNotFoundError",
          "evalue": "ignored",
          "traceback": [
            "\u001b[0;31m---------------------------------------------------------------------------\u001b[0m",
            "\u001b[0;31mModuleNotFoundError\u001b[0m                       Traceback (most recent call last)",
            "\u001b[0;32m<ipython-input-22-0a4750163948>\u001b[0m in \u001b[0;36m<module>\u001b[0;34m()\u001b[0m\n\u001b[0;32m----> 1\u001b[0;31m \u001b[0;32mimport\u001b[0m \u001b[0mpredict\u001b[0m\u001b[0;34m\u001b[0m\u001b[0;34m\u001b[0m\u001b[0m\n\u001b[0m\u001b[1;32m      2\u001b[0m \u001b[0;34m\u001b[0m\u001b[0m\n\u001b[1;32m      3\u001b[0m \u001b[0m__all__\u001b[0m \u001b[0;34m=\u001b[0m \u001b[0;34m[\u001b[0m\u001b[0;34m'predict'\u001b[0m\u001b[0;34m]\u001b[0m\u001b[0;34m\u001b[0m\u001b[0;34m\u001b[0m\u001b[0m\n",
            "\u001b[0;31mModuleNotFoundError\u001b[0m: No module named 'predict'",
            "",
            "\u001b[0;31m---------------------------------------------------------------------------\u001b[0;32m\nNOTE: If your import is failing due to a missing package, you can\nmanually install dependencies using either !pip or !apt.\n\nTo view examples of installing some common dependencies, click the\n\"Open Examples\" button below.\n\u001b[0;31m---------------------------------------------------------------------------\u001b[0m\n"
          ]
        }
      ]
    },
    {
      "cell_type": "code",
      "metadata": {
        "id": "v_1e5IQ8J058",
        "colab_type": "code",
        "colab": {}
      },
      "source": [
        ""
      ],
      "execution_count": 0,
      "outputs": []
    }
  ]
}